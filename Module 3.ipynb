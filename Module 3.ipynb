{
 "cells": [
  {
   "cell_type": "markdown",
   "metadata": {
    "id": "xrcxt3ohKrEk"
   },
   "source": [
    "# Data Types and Structure Question"
   ]
  },
  {
   "cell_type": "markdown",
   "metadata": {
    "id": "69RuIOciLJxR"
   },
   "source": [
    "1. **What are data structure , and why are they imporatant?**\n",
    "   = Data structure are ways of organizing and storing data efficiently. They are important because they enable quick data retrival,manipulation and efficient use of memory.\n",
    "\n",
    "\n",
    "\n"
   ]
  },
  {
   "cell_type": "markdown",
   "metadata": {
    "id": "YsnffGT_LmK9"
   },
   "source": [
    "**2. Explain the difference between mutable and immutable data types with examples**\n",
    "= The difference betwwen mutable and immutable is the mutable value can be changed and modify e.g. Lists. In another hand immutable object cannot be changed and modify after creation e.g.Tuple."
   ]
  },
  {
   "cell_type": "markdown",
   "metadata": {
    "id": "sQ4AgpuZ5ja9"
   },
   "source": [
    "**3.What are the main difference between lists and tuples in python**\n",
    "= The main difference between lists and tuple is list can be changed and modify after creation list use [ ] bract.  but tuple cannot changed and modify its value tuple use (parenthesis)."
   ]
  },
  {
   "cell_type": "markdown",
   "metadata": {
    "id": "EbYTJaZ35jim"
   },
   "source": [
    "**4. Describe how dictionary store data.**\n",
    "=  A dictionat (dict) in python stores data in key-value pairs using hash tables."
   ]
  },
  {
   "cell_type": "markdown",
   "metadata": {
    "id": "Rq3ApBch5lOD"
   },
   "source": [
    "**5. Why might you use a set instead of a list in python**\n",
    "= Set has unique advantage in certain situation for e.g. set automatically remove duplicate elements in other hand list allow duplicate elements."
   ]
  },
  {
   "cell_type": "markdown",
   "metadata": {
    "id": "iBlkhTzc5lKW"
   },
   "source": [
    "**6. What is a string in python and how it is different from a list**\n",
    "= A string is a sequence of charater enclosed by quotes('or\"). The difference between string and lists is string is immutable it cannot change individual characters but list is mutable and it can modify its elements."
   ]
  },
  {
   "cell_type": "markdown",
   "metadata": {
    "id": "Y2YLGCV55lGM"
   },
   "source": [
    "**7. How to tuples ensure data integrity in Python.**\n",
    "= A tuple is a immutable data structure, meaning its value can not be changed after creation. This immutable help maintain data integrity in python."
   ]
  },
  {
   "cell_type": "markdown",
   "metadata": {
    "id": "nooDHXYM5lCm"
   },
   "source": [
    "**8.What is a hash table , and how dooes it relate to dictionaries in Python**\n",
    "= A hash table is a data structure that stroes key value pairs using a hashing function to map key to unique memory location. it allows for fast data retrival(0(1))average time complexity."
   ]
  },
  {
   "cell_type": "markdown",
   "metadata": {
    "id": "FrgcbmI05k7N"
   },
   "source": [
    "**9.Can lists contain different daya types in Python.**\n",
    "=  Yes.\n"
   ]
  },
  {
   "cell_type": "markdown",
   "metadata": {
    "id": "ZBdTNVRP5k3l"
   },
   "source": [
    "**10. Explain why strings are immutable in Python.**\n",
    "=  String is immutable because if string is once created ut cannot be chaged. if u modify a stgring it creates a new string instead of changing the orginal string."
   ]
  },
  {
   "cell_type": "markdown",
   "metadata": {
    "id": "B72G2-5_5kzA"
   },
   "source": [
    "**11. What advantages do dictionary offer over lists  for certain tasks.**\n",
    "= Dictionary offer several advantage in specific tasks for e.g. Faster lookpus, Key value pairing, No need for index based searching, more efficient for large data sets and  Flexibility in Data storage."
   ]
  },
  {
   "cell_type": "markdown",
   "metadata": {
    "id": "Za7_tc_h5ksj"
   },
   "source": [
    "**12. Descibe a senario where using a tuple would be preferableover a list.**\n",
    "= Suppose you are building a mapping application where you need to store geographical coordinates  (latitude,longitude)\n",
    "the feature of tuple which is immutability help  data to to coordinates dont change, so using a tuple ensures the data intergrity, tuples are faster and use less memory then lists."
   ]
  },
  {
   "cell_type": "markdown",
   "metadata": {
    "id": "FzoIXTvUFK5M"
   },
   "source": [
    "**13. How to set handle duplicate values in python**\n",
    "=  In python set automatically remove the duplicate values beacuse they are unordered collections of unique elements."
   ]
  },
  {
   "cell_type": "markdown",
   "metadata": {
    "id": "0VkuI1PV5kjo"
   },
   "source": [
    "**14. How does \"in\" keyword work differently for lists and dictionaries.**\n",
    "= The \"in\" keyword is used to check the membership in both lists and dictionaries but it behave differently \"in\" with lists search elements but \"in\" with  dictionaries search keys not values."
   ]
  },
  {
   "cell_type": "markdown",
   "metadata": {
    "id": "sLsFZtK25kJC"
   },
   "source": [
    "**15. Can you modify the elements of a tuple? Explain why or why not.**\n",
    "= NO,\n",
    "     Elements of tuple cannot be changed because tuple is immutable it cannot be changed and modity to ensure the data integrity."
   ]
  },
  {
   "cell_type": "markdown",
   "metadata": {
    "id": "ivGOUDReLv8Y"
   },
   "source": [
    "**16. What is a nested dictionary,and give a example of its use case?**\n",
    "=  A nested dictionary is a dictionary inside a dictionary. The example of its use case is a school data base where each students has their own dictionary conating details like name,age,and subjects."
   ]
  },
  {
   "cell_type": "markdown",
   "metadata": {
    "id": "MMuV7o8nHs9G"
   },
   "source": [
    "**17. Describe a time complexity of accessing elements in a dictionary. ***\n",
    "=  Time complexity of accessing elements in dictionaries are Dictionaries use a hash table , So looking up a key is fast. python computes the hash of the key and directly find the value without searching."
   ]
  },
  {
   "cell_type": "markdown",
   "metadata": {
    "id": "j4AH1r3XHsrM"
   },
   "source": [
    "**18. In what situation are lists preffered over dictionaries?**\n",
    "=   Although dictionaries are fastsvfor lookups lists are better in certain cases for e.g. Maintaining order,Storing sequential Data, Index based access,Duplicates are allowed and When memory usage matters."
   ]
  },
  {
   "cell_type": "markdown",
   "metadata": {
    "id": "a1pYPSjdHsZt"
   },
   "source": [
    "**19. Why are dictionaries considered unordered,and how does that affect  data retrival?**\n",
    "= Before python 3.7 dictionaries are unordered meaning elements were stored randomly in memory. it effect in insertation order preserved and iteration order predictable."
   ]
  },
  {
   "cell_type": "markdown",
   "metadata": {
    "id": "K97pdtBZHsQi"
   },
   "source": [
    "**20. Explain the difference between a lists and a dictionary in terms of data retrival.**\n",
    "= The difference between the list and dictionary in terms od data retrival are as follow:\n",
    "list = Uses indexing(list[index]),lookup speed O(n) (slow if searching a value)\n",
    "Flexibility, Duplicate handles and less memory usuage.\n",
    "\n",
    "dictionary = Uses key(dict[key]),lookup speed O(1) (Fast due to hashing), Key value pairs more structured, Duplicate are not allows key must be unique."
   ]
  },
  {
   "cell_type": "markdown",
   "metadata": {
    "id": "wRu36_ijL6eE"
   },
   "source": [
    "# Pratical question\n"
   ]
  },
  {
   "cell_type": "code",
   "execution_count": null,
   "metadata": {
    "colab": {
     "base_uri": "https://localhost:8080/"
    },
    "executionInfo": {
     "elapsed": 31,
     "status": "ok",
     "timestamp": 1739196633466,
     "user": {
      "displayName": "DEV 098",
      "userId": "18295829215638512248"
     },
     "user_tz": -330
    },
    "id": "0uuZeXU8L-7A",
    "outputId": "e4556250-c049-41c4-85d4-81f44d74fa52"
   },
   "outputs": [
    {
     "name": "stdout",
     "output_type": "stream",
     "text": [
      "Dev\n"
     ]
    }
   ],
   "source": [
    "#1. Write a code to create a string with your name and print it.\n",
    "name = \"Dev\"\n",
    "print(name)"
   ]
  },
  {
   "cell_type": "code",
   "execution_count": null,
   "metadata": {
    "colab": {
     "base_uri": "https://localhost:8080/"
    },
    "executionInfo": {
     "elapsed": 21,
     "status": "ok",
     "timestamp": 1739196748855,
     "user": {
      "displayName": "DEV 098",
      "userId": "18295829215638512248"
     },
     "user_tz": -330
    },
    "id": "5x1yEY1QMrnm",
    "outputId": "24c0b7fc-f0c1-432b-e082-b07e600e97d2"
   },
   "outputs": [
    {
     "name": "stdout",
     "output_type": "stream",
     "text": [
      "11\n"
     ]
    }
   ],
   "source": [
    "#2. Write a code to find the length of string \"Hello World\".\n",
    "a = (\"Hello World\")\n",
    "print(len(a))"
   ]
  },
  {
   "cell_type": "code",
   "execution_count": null,
   "metadata": {
    "colab": {
     "base_uri": "https://localhost:8080/",
     "height": 36
    },
    "executionInfo": {
     "elapsed": 540,
     "status": "ok",
     "timestamp": 1739197540597,
     "user": {
      "displayName": "DEV 098",
      "userId": "18295829215638512248"
     },
     "user_tz": -330
    },
    "id": "SC6p8bfmPhIC",
    "outputId": "cc1ce981-6afd-4829-fb40-d499c1e4c424"
   },
   "outputs": [
    {
     "data": {
      "application/vnd.google.colaboratory.intrinsic+json": {
       "type": "string"
      },
      "text/plain": [
       "'Pyt'"
      ]
     },
     "execution_count": 10,
     "metadata": {},
     "output_type": "execute_result"
    }
   ],
   "source": [
    "#3. Write a code to slice the first 3 characters from the string\"Python Programming\".\n",
    "a = (\"Python Programming\")\n",
    "a[0:3]"
   ]
  },
  {
   "cell_type": "code",
   "execution_count": null,
   "metadata": {
    "colab": {
     "base_uri": "https://localhost:8080/"
    },
    "executionInfo": {
     "elapsed": 24,
     "status": "ok",
     "timestamp": 1739197760079,
     "user": {
      "displayName": "DEV 098",
      "userId": "18295829215638512248"
     },
     "user_tz": -330
    },
    "id": "7grc1nSrPh6U",
    "outputId": "daa76cb9-49a3-4ebc-bbfc-20ce409935fe"
   },
   "outputs": [
    {
     "name": "stdout",
     "output_type": "stream",
     "text": [
      "HELLO\n"
     ]
    }
   ],
   "source": [
    "#4.Write a code to convert the string\"hello\" to uppercase.\n",
    "string = \"Hello\"\n",
    "print(string.upper())\n"
   ]
  },
  {
   "cell_type": "code",
   "execution_count": null,
   "metadata": {
    "colab": {
     "base_uri": "https://localhost:8080/"
    },
    "executionInfo": {
     "elapsed": 13,
     "status": "ok",
     "timestamp": 1739198005130,
     "user": {
      "displayName": "DEV 098",
      "userId": "18295829215638512248"
     },
     "user_tz": -330
    },
    "id": "gQM2_6r5Ph1E",
    "outputId": "1444822f-8c41-4e14-c1d2-dac8d8b57616"
   },
   "outputs": [
    {
     "name": "stdout",
     "output_type": "stream",
     "text": [
      "i like orange\n"
     ]
    }
   ],
   "source": [
    "#5. Write a code to replace the word \"apple\" with \"orange\" in the string \"i like apple\"\n",
    "string = \"i like apple\"\n",
    "print(string.replace(\"apple\",\"orange\"))"
   ]
  },
  {
   "cell_type": "code",
   "execution_count": null,
   "metadata": {
    "colab": {
     "base_uri": "https://localhost:8080/"
    },
    "executionInfo": {
     "elapsed": 52,
     "status": "ok",
     "timestamp": 1739198109483,
     "user": {
      "displayName": "DEV 098",
      "userId": "18295829215638512248"
     },
     "user_tz": -330
    },
    "id": "uFD1OlAaPhx9",
    "outputId": "fbcdb97b-8229-4267-e903-35ea0548319a"
   },
   "outputs": [
    {
     "name": "stdout",
     "output_type": "stream",
     "text": [
      "[1, 2, 3, 4, 5]\n"
     ]
    }
   ],
   "source": [
    "#6. Write a code to create a list with number 1 to 5 and print it.\n",
    "list = [1,2,3,4,5]\n",
    "print(list)"
   ]
  },
  {
   "cell_type": "code",
   "execution_count": null,
   "metadata": {
    "colab": {
     "base_uri": "https://localhost:8080/"
    },
    "executionInfo": {
     "elapsed": 21,
     "status": "ok",
     "timestamp": 1739198683755,
     "user": {
      "displayName": "DEV 098",
      "userId": "18295829215638512248"
     },
     "user_tz": -330
    },
    "id": "ekR1SPOHPhuN",
    "outputId": "a4719896-0747-4f19-be42-eb8eb1476b9f"
   },
   "outputs": [
    {
     "name": "stdout",
     "output_type": "stream",
     "text": [
      "[1, 2, 3, 4, 10]\n"
     ]
    }
   ],
   "source": [
    "#7. Write a code to append the number 10 to the listp[1,2,3,4]\n",
    "list1 = [1,2,3,4]\n",
    "list1.append(10)\n",
    "print(list1)"
   ]
  },
  {
   "cell_type": "code",
   "execution_count": null,
   "metadata": {
    "colab": {
     "base_uri": "https://localhost:8080/"
    },
    "executionInfo": {
     "elapsed": 11,
     "status": "ok",
     "timestamp": 1739198688106,
     "user": {
      "displayName": "DEV 098",
      "userId": "18295829215638512248"
     },
     "user_tz": -330
    },
    "id": "D6R6XdJWPhpp",
    "outputId": "02beac32-44ae-494a-c97d-ae5e103bb871"
   },
   "outputs": [
    {
     "name": "stdout",
     "output_type": "stream",
     "text": [
      "[1, 2, 4, 5]\n"
     ]
    }
   ],
   "source": [
    "#8. Write a code to remove thenumber 3 from the list[1,2,3,4,5]\n",
    "a = [1,2,3,4,5]\n",
    "a.remove(3)\n",
    "print(a)"
   ]
  },
  {
   "cell_type": "code",
   "execution_count": null,
   "metadata": {
    "colab": {
     "base_uri": "https://localhost:8080/"
    },
    "executionInfo": {
     "elapsed": 14,
     "status": "ok",
     "timestamp": 1739198813490,
     "user": {
      "displayName": "DEV 098",
      "userId": "18295829215638512248"
     },
     "user_tz": -330
    },
    "id": "M5M1ZVKkPhil",
    "outputId": "d7b5dd8e-89b3-4219-e7d5-3e5aa1c86940"
   },
   "outputs": [
    {
     "name": "stdout",
     "output_type": "stream",
     "text": [
      "b\n"
     ]
    }
   ],
   "source": [
    "#9. Write a code to access the second elements in the list['a','b','c','d']\n",
    "a = ['a','b','c','d']\n",
    "print(a[1])"
   ]
  },
  {
   "cell_type": "code",
   "execution_count": null,
   "metadata": {
    "colab": {
     "base_uri": "https://localhost:8080/"
    },
    "executionInfo": {
     "elapsed": 16,
     "status": "ok",
     "timestamp": 1739198890828,
     "user": {
      "displayName": "DEV 098",
      "userId": "18295829215638512248"
     },
     "user_tz": -330
    },
    "id": "NDH1Epr2PhZm",
    "outputId": "7e4357de-f47b-4403-97b6-ff1a8ac88049"
   },
   "outputs": [
    {
     "name": "stdout",
     "output_type": "stream",
     "text": [
      "[50, 40, 30, 20, 10]\n"
     ]
    }
   ],
   "source": [
    "#10. Write a code to reverse the list [10,20,30,40,50]\n",
    "a = [10,20,30,40,50]\n",
    "a.reverse()\n",
    "print(a)"
   ]
  },
  {
   "cell_type": "code",
   "execution_count": null,
   "metadata": {
    "colab": {
     "base_uri": "https://localhost:8080/"
    },
    "executionInfo": {
     "elapsed": 14,
     "status": "ok",
     "timestamp": 1739199084586,
     "user": {
      "displayName": "DEV 098",
      "userId": "18295829215638512248"
     },
     "user_tz": -330
    },
    "id": "xr0URbaFU_ea",
    "outputId": "4f125e93-c25a-4605-b837-caaec5f376a1"
   },
   "outputs": [
    {
     "name": "stdout",
     "output_type": "stream",
     "text": [
      "(100, 200, 300)\n"
     ]
    },
    {
     "data": {
      "text/plain": [
       "tuple"
      ]
     },
     "execution_count": 24,
     "metadata": {},
     "output_type": "execute_result"
    }
   ],
   "source": [
    "#11. Write a code to create a tuple with the elements 100,200,300 and print it.\n",
    "b = (100,200,300)\n",
    "print(b)"
   ]
  },
  {
   "cell_type": "code",
   "execution_count": null,
   "metadata": {
    "colab": {
     "base_uri": "https://localhost:8080/"
    },
    "executionInfo": {
     "elapsed": 10,
     "status": "ok",
     "timestamp": 1739199347928,
     "user": {
      "displayName": "DEV 098",
      "userId": "18295829215638512248"
     },
     "user_tz": -330
    },
    "id": "w2xFmXwSU_ax",
    "outputId": "f9c31a79-2f02-4694-9829-b0405c923a1b"
   },
   "outputs": [
    {
     "name": "stdout",
     "output_type": "stream",
     "text": [
      "blue\n"
     ]
    }
   ],
   "source": [
    "#12. Write a code to access the second-to-last elements of the tuple('red','green','blue','yellow)\n",
    "tuple = ('red','green','blue','yellow')\n",
    "print(tuple[-2])"
   ]
  },
  {
   "cell_type": "code",
   "execution_count": null,
   "metadata": {
    "colab": {
     "base_uri": "https://localhost:8080/"
    },
    "executionInfo": {
     "elapsed": 22,
     "status": "ok",
     "timestamp": 1739199767942,
     "user": {
      "displayName": "DEV 098",
      "userId": "18295829215638512248"
     },
     "user_tz": -330
    },
    "id": "5kCGjmlCU_Xh",
    "outputId": "e6b8b211-1634-41c2-ca6b-275d5f4b8e49"
   },
   "outputs": [
    {
     "name": "stdout",
     "output_type": "stream",
     "text": [
      "5\n"
     ]
    }
   ],
   "source": [
    "#13. Write a code to find the minimum number in the tuple(10,20,5,15)\n",
    "number = (10,20,5,15)\n",
    "print(min(number))"
   ]
  },
  {
   "cell_type": "code",
   "execution_count": null,
   "metadata": {
    "colab": {
     "base_uri": "https://localhost:8080/"
    },
    "executionInfo": {
     "elapsed": 78,
     "status": "ok",
     "timestamp": 1739241934523,
     "user": {
      "displayName": "DEV 098",
      "userId": "18295829215638512248"
     },
     "user_tz": -330
    },
    "id": "4lcosB7ZU_UZ",
    "outputId": "c4d483e9-3a21-4fd7-d0e3-8903aa1471e8"
   },
   "outputs": [
    {
     "name": "stdout",
     "output_type": "stream",
     "text": [
      "1\n"
     ]
    }
   ],
   "source": [
    "#14. Write a code to find the index of elements \"cat\" in the tuple ('dog','cat','rabbit')\n",
    "elements = ('dog','cat','rabbit')\n",
    "print(elements.index('cat'))"
   ]
  },
  {
   "cell_type": "code",
   "execution_count": null,
   "metadata": {
    "colab": {
     "base_uri": "https://localhost:8080/"
    },
    "executionInfo": {
     "elapsed": 24,
     "status": "ok",
     "timestamp": 1739242311376,
     "user": {
      "displayName": "DEV 098",
      "userId": "18295829215638512248"
     },
     "user_tz": -330
    },
    "id": "sTpz96N95g0J",
    "outputId": "dfa9515f-4e8b-4dfc-a2f5-f2e52b019085"
   },
   "outputs": [
    {
     "name": "stdout",
     "output_type": "stream",
     "text": [
      "True\n"
     ]
    }
   ],
   "source": [
    "#15. Write a code to create a tuple contaning three different fruits and chcek if\"kiwi\" is in it\n",
    "fruit = (\"mango\",\"apple\",\"kiwi\")\n",
    "print(\"kiwi\"in fruit)"
   ]
  },
  {
   "cell_type": "code",
   "execution_count": null,
   "metadata": {
    "colab": {
     "base_uri": "https://localhost:8080/"
    },
    "executionInfo": {
     "elapsed": 17,
     "status": "ok",
     "timestamp": 1739242717053,
     "user": {
      "displayName": "DEV 098",
      "userId": "18295829215638512248"
     },
     "user_tz": -330
    },
    "id": "zv-8XVqgU_PU",
    "outputId": "2e118872-9ea8-4a54-eb63-6b8e1fb51b4b"
   },
   "outputs": [
    {
     "name": "stdout",
     "output_type": "stream",
     "text": [
      "{'b', 'a', 'c'}\n"
     ]
    }
   ],
   "source": [
    "#16. Write a code to create a set with the elements 'a','b','c' and print it.\n",
    "myset = {'a','b','c'}\n",
    "print(myset)"
   ]
  },
  {
   "cell_type": "code",
   "execution_count": null,
   "metadata": {
    "colab": {
     "base_uri": "https://localhost:8080/"
    },
    "executionInfo": {
     "elapsed": 33,
     "status": "ok",
     "timestamp": 1739242871716,
     "user": {
      "displayName": "DEV 098",
      "userId": "18295829215638512248"
     },
     "user_tz": -330
    },
    "id": "OeRxJwGDU_MB",
    "outputId": "3e49c744-f804-44d2-ff76-38bab7e42a76"
   },
   "outputs": [
    {
     "name": "stdout",
     "output_type": "stream",
     "text": [
      "set()\n"
     ]
    }
   ],
   "source": [
    "#17. Write a code to clear all the elements  from the set{1,2,3,4,5}\n",
    "set1 = {1,2,3,4,5}\n",
    "set1.clear()\n",
    "print(set1)"
   ]
  },
  {
   "cell_type": "code",
   "execution_count": null,
   "metadata": {
    "colab": {
     "base_uri": "https://localhost:8080/"
    },
    "executionInfo": {
     "elapsed": 84,
     "status": "ok",
     "timestamp": 1739243043494,
     "user": {
      "displayName": "DEV 098",
      "userId": "18295829215638512248"
     },
     "user_tz": -330
    },
    "id": "fXpvkX3AU_IZ",
    "outputId": "3cf80f36-9797-4fd7-e3e8-df485eedd379"
   },
   "outputs": [
    {
     "name": "stdout",
     "output_type": "stream",
     "text": [
      "{1, 2, 3, 5}\n"
     ]
    }
   ],
   "source": [
    "#18. Write a code to remove the elements 4  from the set{1,2,3,4,5}\n",
    "set2 = {1,2,3,4,5}\n",
    "set2.remove(4)\n",
    "print(set2)"
   ]
  },
  {
   "cell_type": "code",
   "execution_count": null,
   "metadata": {
    "colab": {
     "base_uri": "https://localhost:8080/"
    },
    "executionInfo": {
     "elapsed": 23,
     "status": "ok",
     "timestamp": 1739243207185,
     "user": {
      "displayName": "DEV 098",
      "userId": "18295829215638512248"
     },
     "user_tz": -330
    },
    "id": "GRCXwWNdU_CM",
    "outputId": "f7ed0658-351c-4013-c3ba-0dae875bc549"
   },
   "outputs": [
    {
     "name": "stdout",
     "output_type": "stream",
     "text": [
      "{1, 2, 3, 4, 5}\n"
     ]
    }
   ],
   "source": [
    "#19. Write a code to find the union of the two set{1,2,3}and{3,4,5}\n",
    "set1 = {1,2,3}\n",
    "set2 = {3,4,5}\n",
    "print(set1.union(set2))"
   ]
  },
  {
   "cell_type": "code",
   "execution_count": null,
   "metadata": {
    "colab": {
     "base_uri": "https://localhost:8080/"
    },
    "executionInfo": {
     "elapsed": 25,
     "status": "ok",
     "timestamp": 1739243315355,
     "user": {
      "displayName": "DEV 098",
      "userId": "18295829215638512248"
     },
     "user_tz": -330
    },
    "id": "_y7hk87kU--2",
    "outputId": "1b31cd4b-9dca-4e6b-d5bc-7fcb3dc32ac8"
   },
   "outputs": [
    {
     "name": "stdout",
     "output_type": "stream",
     "text": [
      "{2, 3}\n"
     ]
    }
   ],
   "source": [
    "#20. Write a code to find the intersection of two sets {1,2,3}and {2,3,4}\n",
    "set1 = {1,2,3}\n",
    "set2 = {2,3,4}\n",
    "print(set1.intersection(set2))"
   ]
  },
  {
   "cell_type": "code",
   "execution_count": null,
   "metadata": {
    "colab": {
     "base_uri": "https://localhost:8080/"
    },
    "executionInfo": {
     "elapsed": 27,
     "status": "ok",
     "timestamp": 1739243535087,
     "user": {
      "displayName": "DEV 098",
      "userId": "18295829215638512248"
     },
     "user_tz": -330
    },
    "id": "tVdT0uycU-6r",
    "outputId": "dc937d9b-441c-4d1f-df69-392e6eb5fd7e"
   },
   "outputs": [
    {
     "name": "stdout",
     "output_type": "stream",
     "text": [
      "{'name': 'Fred', 'age': 17, 'city': 'London'}\n"
     ]
    }
   ],
   "source": [
    "#21. Write a code to  create a dictionary with key\"name\"\"age\", and \"city\"and print it.\n",
    "student = {\"name\":\"Fred\",\"age\":17,\"city\":\"London\"}\n",
    "print(student)"
   ]
  },
  {
   "cell_type": "code",
   "execution_count": null,
   "metadata": {
    "colab": {
     "base_uri": "https://localhost:8080/"
    },
    "executionInfo": {
     "elapsed": 79,
     "status": "ok",
     "timestamp": 1739244343463,
     "user": {
      "displayName": "DEV 098",
      "userId": "18295829215638512248"
     },
     "user_tz": -330
    },
    "id": "UsNoI2dXU-2f",
    "outputId": "fa6c5cc5-2d70-4486-8937-181d169caa19"
   },
   "outputs": [
    {
     "name": "stdout",
     "output_type": "stream",
     "text": [
      "{'name': 'jhon', 'age': '25', 'country': 'usa'}\n"
     ]
    }
   ],
   "source": [
    "#22.Write a code to add a new key  value pair\"country\":\"usa\" to the dictionary {'name':'jhon','age':25}\n",
    "dic = {'name':'jhon','age':'25'}\n",
    "dic[\"country\"]=\"usa\"\n",
    "print(dic)"
   ]
  },
  {
   "cell_type": "code",
   "execution_count": null,
   "metadata": {
    "colab": {
     "base_uri": "https://localhost:8080/"
    },
    "executionInfo": {
     "elapsed": 20,
     "status": "ok",
     "timestamp": 1739244732914,
     "user": {
      "displayName": "DEV 098",
      "userId": "18295829215638512248"
     },
     "user_tz": -330
    },
    "id": "86UBM9DiAeCD",
    "outputId": "df573ad2-ec9d-43a5-ef04-4e200e50026b"
   },
   "outputs": [
    {
     "name": "stdout",
     "output_type": "stream",
     "text": [
      "Alice\n"
     ]
    }
   ],
   "source": [
    "#23.Write a code to access the value associated with the key \"name\" in the dictionary {'name':'Alice','age':30}\n",
    "dic1 = {'name':'Alice','age':'30'}\n",
    "name_value = dic1['name']\n",
    "print(name_value)"
   ]
  },
  {
   "cell_type": "code",
   "execution_count": null,
   "metadata": {
    "colab": {
     "base_uri": "https://localhost:8080/"
    },
    "executionInfo": {
     "elapsed": 14,
     "status": "ok",
     "timestamp": 1739245080644,
     "user": {
      "displayName": "DEV 098",
      "userId": "18295829215638512248"
     },
     "user_tz": -330
    },
    "id": "hyfmayNl_oOh",
    "outputId": "9f32fb2d-1e0e-4537-d557-6e3213552715"
   },
   "outputs": [
    {
     "name": "stdout",
     "output_type": "stream",
     "text": [
      "{'name': 'Bob', 'city': 'New york'}\n"
     ]
    }
   ],
   "source": [
    "#24. Write a code to remove  the key 'age' from the dictionary{'name':'Bob','age':'22','city':'New York'}\n",
    "person = {'name':'Bob','age':'22','city':'New york'}\n",
    "del person['age']\n",
    "print(person)"
   ]
  },
  {
   "cell_type": "code",
   "execution_count": null,
   "metadata": {
    "colab": {
     "base_uri": "https://localhost:8080/"
    },
    "executionInfo": {
     "elapsed": 12,
     "status": "ok",
     "timestamp": 1739245265529,
     "user": {
      "displayName": "DEV 098",
      "userId": "18295829215638512248"
     },
     "user_tz": -330
    },
    "id": "8kR94iPD_oDn",
    "outputId": "a85edd2e-7969-4849-90e5-290c010806db"
   },
   "outputs": [
    {
     "name": "stdout",
     "output_type": "stream",
     "text": [
      "True\n"
     ]
    }
   ],
   "source": [
    "#25. Write a code to check if the key \"city\"exists in the dictionary {'name':'Alice','city':'paris'}\n",
    "dic = {'name':'Alice','city':'Paris'}\n",
    "print('city' in dic)"
   ]
  },
  {
   "cell_type": "code",
   "execution_count": null,
   "metadata": {
    "colab": {
     "base_uri": "https://localhost:8080/"
    },
    "executionInfo": {
     "elapsed": 142,
     "status": "ok",
     "timestamp": 1739245817751,
     "user": {
      "displayName": "DEV 098",
      "userId": "18295829215638512248"
     },
     "user_tz": -330
    },
    "id": "VkKDb0Tq_oBJ",
    "outputId": "4d0f6f57-334e-486f-a32c-f2dd7d0c78d7"
   },
   "outputs": [
    {
     "name": "stdout",
     "output_type": "stream",
     "text": [
      "[1, 2, 3, 4, 5] (6, 7, 8) {'a': '2', 'b': 'c'}\n"
     ]
    }
   ],
   "source": [
    "#26. Write a code to create a list, a tuple, and a dictionary,and print them all.\n",
    "list1 = [1,2,3,4,5]\n",
    "tuple1 = (6,7,8)\n",
    "dict1 = {'a':'2','b':'c'}\n",
    "print(list1,tuple1,dict1)"
   ]
  },
  {
   "cell_type": "code",
   "execution_count": null,
   "metadata": {
    "colab": {
     "base_uri": "https://localhost:8080/"
    },
    "executionInfo": {
     "elapsed": 29,
     "status": "ok",
     "timestamp": 1739246223025,
     "user": {
      "displayName": "DEV 098",
      "userId": "18295829215638512248"
     },
     "user_tz": -330
    },
    "id": "DYRz_R1IGmXv",
    "outputId": "766569d2-3f93-4ff5-f358-4785613ff450"
   },
   "outputs": [
    {
     "name": "stdout",
     "output_type": "stream",
     "text": [
      "[11, 29, 52, 66, 68]\n"
     ]
    }
   ],
   "source": [
    "#27. Write a code to create a list of 5 random numbers between 1 and 100, sort it in ascending order , and print the result.(replaced)\n",
    "import random\n",
    "numbers = random.sample(range(1,101),\n",
    "                        5)\n",
    "numbers.sort()\n",
    "print(numbers)\n"
   ]
  },
  {
   "cell_type": "code",
   "execution_count": null,
   "metadata": {
    "colab": {
     "base_uri": "https://localhost:8080/"
    },
    "executionInfo": {
     "elapsed": 20,
     "status": "ok",
     "timestamp": 1739246539074,
     "user": {
      "displayName": "DEV 098",
      "userId": "18295829215638512248"
     },
     "user_tz": -330
    },
    "id": "tKZbS16q_n99",
    "outputId": "62374ae0-4f89-4b5f-a918-4a34be4907b4"
   },
   "outputs": [
    {
     "name": "stdout",
     "output_type": "stream",
     "text": [
      "tuborg\n"
     ]
    }
   ],
   "source": [
    "#28. Write a code to create a list with strings and print the elements at the third index.\n",
    "create = ['mazza','ajay','aple','tuborg']\n",
    "print(create[3])"
   ]
  },
  {
   "cell_type": "code",
   "execution_count": null,
   "metadata": {
    "colab": {
     "base_uri": "https://localhost:8080/"
    },
    "executionInfo": {
     "elapsed": 12,
     "status": "ok",
     "timestamp": 1739246833653,
     "user": {
      "displayName": "DEV 098",
      "userId": "18295829215638512248"
     },
     "user_tz": -330
    },
    "id": "GrSx5CHn_n5s",
    "outputId": "e16881d9-27aa-4985-e629-252e85ab1f69"
   },
   "outputs": [
    {
     "name": "stdout",
     "output_type": "stream",
     "text": [
      "{'a': 1, 'b': 2, 'c': 3, 'd': 4}\n"
     ]
    }
   ],
   "source": [
    "#29. Write a code to combine two dictionaries into one and print the result.\n",
    "dict1 = {\"a\": 1, \"b\":2}\n",
    "dict2 = {\"c\": 3, \"d\":4}\n",
    "combined_dict = {**dict1,**dict2}\n",
    "print(combined_dict)"
   ]
  },
  {
   "cell_type": "code",
   "execution_count": null,
   "metadata": {
    "colab": {
     "base_uri": "https://localhost:8080/"
    },
    "executionInfo": {
     "elapsed": 21,
     "status": "ok",
     "timestamp": 1739247099243,
     "user": {
      "displayName": "DEV 098",
      "userId": "18295829215638512248"
     },
     "user_tz": -330
    },
    "id": "XqsQI6LS_n2g",
    "outputId": "6b81245e-4ee2-4b8e-f9da-4c47aeb46eaa"
   },
   "outputs": [
    {
     "name": "stdout",
     "output_type": "stream",
     "text": [
      "{'wipe', 'hello', 'bye'}\n"
     ]
    }
   ],
   "source": [
    "#30. write a code to convert a list of strings into a set.\n",
    "list1 = [\"hello\",\"bye\",\"wipe\"]\n",
    "list1_set = set(list1)\n",
    "print(list1_set)"
   ]
  }
 ],
 "metadata": {
  "colab": {
   "authorship_tag": "ABX9TyMyK25hy5rMQyJsFQtCYYFz",
   "provenance": []
  },
  "kernelspec": {
   "display_name": "Python 3",
   "name": "python3"
  },
  "language_info": {
   "name": "python"
  }
 },
 "nbformat": 4,
 "nbformat_minor": 0
}
